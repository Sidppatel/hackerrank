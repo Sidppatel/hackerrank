{
 "cells": [
  {
   "cell_type": "code",
   "execution_count": 4,
   "metadata": {},
   "outputs": [
    {
     "data": {
      "text/html": [
       "<div>\n",
       "<style scoped>\n",
       "    .dataframe tbody tr th:only-of-type {\n",
       "        vertical-align: middle;\n",
       "    }\n",
       "\n",
       "    .dataframe tbody tr th {\n",
       "        vertical-align: top;\n",
       "    }\n",
       "\n",
       "    .dataframe thead th {\n",
       "        text-align: right;\n",
       "    }\n",
       "</style>\n",
       "<table border=\"1\" class=\"dataframe\">\n",
       "  <thead>\n",
       "    <tr style=\"text-align: right;\">\n",
       "      <th></th>\n",
       "      <th>traffic</th>\n",
       "    </tr>\n",
       "    <tr>\n",
       "      <th>Date</th>\n",
       "      <th></th>\n",
       "    </tr>\n",
       "  </thead>\n",
       "  <tbody>\n",
       "    <tr>\n",
       "      <th>2012-10-01</th>\n",
       "      <td>1339</td>\n",
       "    </tr>\n",
       "    <tr>\n",
       "      <th>2012-10-02</th>\n",
       "      <td>1462</td>\n",
       "    </tr>\n",
       "    <tr>\n",
       "      <th>2012-10-03</th>\n",
       "      <td>1702</td>\n",
       "    </tr>\n",
       "    <tr>\n",
       "      <th>2012-10-04</th>\n",
       "      <td>1656</td>\n",
       "    </tr>\n",
       "    <tr>\n",
       "      <th>2012-10-05</th>\n",
       "      <td>1439</td>\n",
       "    </tr>\n",
       "  </tbody>\n",
       "</table>\n",
       "</div>"
      ],
      "text/plain": [
       "            traffic\n",
       "Date               \n",
       "2012-10-01     1339\n",
       "2012-10-02     1462\n",
       "2012-10-03     1702\n",
       "2012-10-04     1656\n",
       "2012-10-05     1439"
      ]
     },
     "execution_count": 4,
     "metadata": {},
     "output_type": "execute_result"
    }
   ],
   "source": [
    "from matplotlib import pyplot\n",
    "import statsmodels as sm\n",
    "from statsmodels.tsa.stattools import adfuller\n",
    "from statsmodels.graphics.tsaplots import plot_acf, plot_pacf\n",
    "from statsmodels.tsa.arima_model import ARIMA\n",
    "import statistics\n",
    "import matplotlib as mpl\n",
    "import matplotlib.pyplot as plt\n",
    "\n",
    "import pandas as pd\n",
    "import numpy as np\n",
    "from datetime import timedelta,date\n",
    "pyplot.rcParams.update({'figure.figsize': (10, 7), 'figure.dpi': 120})\n",
    "from sklearn.metrics import r2_score\n",
    "\n",
    "# Import as Dataframe\n",
    "# df = pd.read_csv('https://raw.githubusercontent.com/selva86/datasets/master/a10.csv', parse_dates=['date'])\n",
    "with open('input\\input01.txt', 'r') as file:\n",
    "    data = file.read().split(\"\\n\")\n",
    "    \n",
    "n = int(data.pop(0))\n",
    "listDate = []\n",
    "for i in range(0,n):\n",
    "    listDate.append(date(2012, 10, 1) + timedelta(i))\n",
    "    \n",
    "df = pd.DataFrame()\n",
    "df['Date'] = listDate\n",
    "df['traffic'] = list(map(int, data))\n",
    "df = df.set_index(['Date'])\n",
    "df.to_csv('traffic.csv') \n",
    "df.head()"
   ]
  },
  {
   "cell_type": "code",
   "execution_count": null,
   "metadata": {},
   "outputs": [],
   "source": [
    "from statsmodels.tsa.stattools import adfuller\n",
    "\n",
    "def plot_df(x, y, title=\"\", xlabel='Date', ylabel='Value', dpi=100):\n",
    "    plt.figure(figsize=(16,5), dpi=dpi)\n",
    "    plt.plot(x, y, color='tab:red')\n",
    "    plt.gca().set(title=title, xlabel=xlabel, ylabel=ylabel)\n",
    "    plt.show()\n",
    "    \n",
    "def testADF(data):\n",
    "    print(\" > Is the data stationary ?\")\n",
    "    dftest = adfuller(data, autolag='AIC')\n",
    "    print(\"Test statistic = {:.3f}\".format(dftest[0]))\n",
    "    print(\"P-value = {:.3f}\".format(dftest[1]))\n",
    "    print(\"Critical values :\")\n",
    "    for k, v in dftest[4].items():\n",
    "        print(\"\\t{}: {} - The data is {} stationary with {}% confidence\".format(k, v, \"not\" if v<dftest[0] else \"\", 100-int(k[:-1])))\n",
    "\n",
    "plot_df(df['Date'].values, df['traffic'].values) \n",
    "testADF(df['traffic'].diff().dropna())"
   ]
  },
  {
   "cell_type": "code",
   "execution_count": null,
   "metadata": {},
   "outputs": [],
   "source": [
    "data = df.copy()"
   ]
  },
  {
   "cell_type": "code",
   "execution_count": null,
   "metadata": {},
   "outputs": [],
   "source": [
    "data = data.set_index(['Date'])\n",
    "data"
   ]
  },
  {
   "cell_type": "code",
   "execution_count": null,
   "metadata": {},
   "outputs": [],
   "source": [
    "window_size = 12\n",
    "rolmean=data.rolling(window=window_size).mean()\n",
    "rolstd=data.rolling(window=10).std()"
   ]
  },
  {
   "cell_type": "code",
   "execution_count": null,
   "metadata": {},
   "outputs": [],
   "source": [
    "actual=plt.plot(data, color='red', label='Actual')\n",
    "mean_6=plt.plot(rolmean, color='green', label='Rolling Mean') \n",
    "std_6=plt.plot(rolstd, color='black', label='Rolling Std')\n",
    "plt.legend(loc='best')\n",
    "plt.title('Rolling Mean & Standard Deviation')\n",
    "plt.show(block=True)"
   ]
  },
  {
   "cell_type": "code",
   "execution_count": null,
   "metadata": {},
   "outputs": [],
   "source": [
    "testADF(data)"
   ]
  },
  {
   "cell_type": "code",
   "execution_count": null,
   "metadata": {},
   "outputs": [],
   "source": [
    "plt.figure(figsize=(20,10))\n",
    "data_log=np.log(df['traffic'])\n",
    "plt.plot(data_log)"
   ]
  },
  {
   "cell_type": "code",
   "execution_count": null,
   "metadata": {},
   "outputs": [],
   "source": [
    "MAvg=data_log.rolling(window=12).mean()\n",
    "MStd=data_log.rolling(window=12).std()\n",
    "plt.plot(data_log)\n",
    "plt.plot(MAvg, color='blue')"
   ]
  },
  {
   "cell_type": "code",
   "execution_count": null,
   "metadata": {},
   "outputs": [],
   "source": [
    "data_log_diff=data_log-MAvg\n",
    "data_log_diff.head(12)"
   ]
  },
  {
   "cell_type": "code",
   "execution_count": null,
   "metadata": {},
   "outputs": [],
   "source": [
    "data_log_diff=data_log_diff.dropna()\n",
    "data_log_diff.head()\n"
   ]
  },
  {
   "cell_type": "code",
   "execution_count": null,
   "metadata": {},
   "outputs": [],
   "source": [
    "def stationarity(timeseries):\n",
    "    \n",
    "    rolmean=timeseries.rolling(window=12).mean()\n",
    "    rolstd=timeseries.rolling(window=12).std()\n",
    "    \n",
    "    plt.figure(figsize=(20,10))\n",
    "    actual=plt.plot(timeseries, color='red', label='Actual')\n",
    "    mean_6=plt.plot(rolmean, color='green', label='Rolling Mean') \n",
    "    std_6=plt.plot(rolstd, color='black', label='Rolling Std')\n",
    "    plt.legend(loc='best')\n",
    "    plt.title('Rolling Mean & Standard Deviation')\n",
    "    plt.show(block=False)\n",
    "    "
   ]
  },
  {
   "cell_type": "code",
   "execution_count": null,
   "metadata": {},
   "outputs": [],
   "source": [
    "stationarity(data_log_diff)\n",
    "testADF(data_log_diff)"
   ]
  },
  {
   "cell_type": "code",
   "execution_count": null,
   "metadata": {},
   "outputs": [],
   "source": [
    "plt.figure(figsize=(20,10))\n",
    "data_shift=data_log-data_log.shift()\n",
    "plt.plot(data_shift)\n",
    "\n",
    "data_shift=data_shift.dropna()\n",
    "stationarity(data_shift)"
   ]
  },
  {
   "cell_type": "code",
   "execution_count": null,
   "metadata": {},
   "outputs": [],
   "source": [
    "from statsmodels.tsa.stattools import acf, pacf\n",
    "\n",
    "lag_acf=acf(data_shift, nlags=20)\n",
    "lag_pacf=pacf(data_shift, nlags=20, method='ols')\n",
    "\n",
    "plt.figure(figsize=(20,10))\n",
    "plt.subplot(121)\n",
    "plt.plot(lag_acf)\n",
    "plt.axhline(y=0,linestyle='--',color='green')\n",
    "plt.axhline(y=-1.96/np.sqrt(len(data_shift)),linestyle='--',color='green')\n",
    "plt.axhline(y=1.96/np.sqrt(len(data_shift)),linestyle='--',color='green')\n",
    "plt.title('Autocorrelation Function')\n",
    "\n",
    "plt.subplot(122)\n",
    "plt.plot(lag_pacf)\n",
    "plt.axhline(y=0,linestyle='--',color='green')\n",
    "plt.axhline(y=-1.96/np.sqrt(len(data_shift)),linestyle='--',color='green')\n",
    "plt.axhline(y=1.96/np.sqrt(len(data_shift)),linestyle='--',color='green')\n",
    "plt.title('Partial Autocorrelation Function')"
   ]
  },
  {
   "cell_type": "code",
   "execution_count": null,
   "metadata": {},
   "outputs": [],
   "source": [
    "data_shift = data_shift.dropna()\n",
    "from statsmodels.tsa.arima_model import ARIMA\n",
    "\n",
    "plt.figure(figsize=(20,10))\n",
    "model=ARIMA(data_log, order=(1,1,1))\n",
    "results=model.fit(disp=-1)\n",
    "plt.plot(data_shift)\n",
    "plt.plot(results.fittedvalues, color='red')\n",
    "plt.title('RSS: %.4f'% sum((results.fittedvalues-data_shift['trafiic'])**2))\n",
    "print('plotting ARIMA model')\n"
   ]
  },
  {
   "cell_type": "code",
   "execution_count": null,
   "metadata": {},
   "outputs": [],
   "source": []
  }
 ],
 "metadata": {
  "kernelspec": {
   "display_name": "Python 3",
   "language": "python",
   "name": "python3"
  },
  "language_info": {
   "codemirror_mode": {
    "name": "ipython",
    "version": 3
   },
   "file_extension": ".py",
   "mimetype": "text/x-python",
   "name": "python",
   "nbconvert_exporter": "python",
   "pygments_lexer": "ipython3",
   "version": "3.8.6rc1"
  }
 },
 "nbformat": 4,
 "nbformat_minor": 4
}
